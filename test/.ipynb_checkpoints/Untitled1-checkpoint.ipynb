{
 "cells": [
  {
   "cell_type": "code",
   "execution_count": 15,
   "id": "f51d83d5",
   "metadata": {},
   "outputs": [],
   "source": [
    "\n",
    "# used libraries \n",
    "import json\n",
    "import pandas as pd\n",
    "import matplotlib.pyplot as plt\n",
    "\n",
    "# Similar Player Component used libraries \n",
    "from sklearn.metrics.pairwise import cosine_similarity # Cosine Similarity\n",
    "from sklearn.cluster import KMeans # Kmeans clustering\n",
    "\n",
    "# evaluation\n",
    "from sklearn.metrics import silhouette_score\n",
    "from scipy.stats import spearmanr\n",
    "from scipy.stats import kendalltau\n",
    "\n",
    "# Scouter AI Component used libraries\n",
    "import os \n",
    "from langchain.chat_models import ChatOpenAI\n",
    "from langchain.prompts import PromptTemplate\n",
    "from langchain.chains import LLMChain\n",
    "from langchain.prompts.chat import (\n",
    "    ChatPromptTemplate,\n",
    "    SystemMessagePromptTemplate,\n",
    "    AIMessagePromptTemplate,\n",
    "    HumanMessagePromptTemplate,\n",
    ")\n",
    "from langchain.schema import AIMessage, HumanMessage, SystemMessage\n",
    "\n",
    "# evaluation\n",
    "from rouge_score import rouge_scorer\n",
    "from bert_score import score"
   ]
  },
  {
   "cell_type": "code",
   "execution_count": null,
   "id": "820ddd26",
   "metadata": {},
   "outputs": [],
   "source": []
  }
 ],
 "metadata": {
  "kernelspec": {
   "display_name": "Python 3 (ipykernel)",
   "language": "python",
   "name": "python3"
  },
  "language_info": {
   "codemirror_mode": {
    "name": "ipython",
    "version": 3
   },
   "file_extension": ".py",
   "mimetype": "text/x-python",
   "name": "python",
   "nbconvert_exporter": "python",
   "pygments_lexer": "ipython3",
   "version": "3.11.5"
  }
 },
 "nbformat": 4,
 "nbformat_minor": 5
}
